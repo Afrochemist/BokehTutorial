{
 "cells": [
  {
   "cell_type": "code",
   "execution_count": 5,
   "metadata": {
    "collapsed": false
   },
   "outputs": [],
   "source": [
    "#Plotting flower species\n",
    "\n",
    "#Importing libraries\n",
    "from bokeh.plotting import figure\n",
    "from bokeh.io import output_file, show\n",
    "from bokeh.sampledata.iris import flowers\n",
    "\n",
    "#Define the output file path\n",
    "output_file(\"iris.html\")\n",
    "\n",
    "#Create the figure object\n",
    "f=figure()\n",
    "\n",
    "#Stylize the plot area\n",
    "f.plot_width =1100\n",
    "f.plot_height=650\n",
    "#f.background_fill_color='olive'\n",
    "f.background_fill_alpha=0.7\n",
    "\n",
    "#style the title\n",
    "f.title.text =\"Iris Morphology\"\n",
    "f.title.text_color=\"olive\"\n",
    "f.title.text_font=\"times\"\n",
    "f.title.text_font_size=\"25px\"\n",
    "f.title.align=\"center\"\n",
    "\n",
    "#style the axes\n",
    "f.xaxis.minor_tick_line_color=\"blue\"\n",
    "f.yaxis.major_label_orientation=\"vertical\"\n",
    "f.xaxis.visible=True\n",
    "f.xaxis.axis_label=\"Petal Length\"\n",
    "f.yaxis.axis_label=\"Petal Width\"\n",
    "f.axis.axis_label_text_color=\"blue\"\n",
    "f.axis.major_label_text_color=\"orange\"\n",
    "\n",
    "\n",
    "\n",
    "#adding glyphs\n",
    "f.circle(x=flowers[\"petal_length\"], y=flowers[\"petal_width\"])\n",
    "\n",
    "#Save and show the figure\n",
    "show(f)"
   ]
  },
  {
   "cell_type": "code",
   "execution_count": null,
   "metadata": {
    "collapsed": true
   },
   "outputs": [],
   "source": []
  },
  {
   "cell_type": "code",
   "execution_count": null,
   "metadata": {
    "collapsed": true
   },
   "outputs": [],
   "source": []
  }
 ],
 "metadata": {
  "anaconda-cloud": {},
  "kernelspec": {
   "display_name": "Python [Root]",
   "language": "python",
   "name": "Python [Root]"
  },
  "language_info": {
   "codemirror_mode": {
    "name": "ipython",
    "version": 3
   },
   "file_extension": ".py",
   "mimetype": "text/x-python",
   "name": "python",
   "nbconvert_exporter": "python",
   "pygments_lexer": "ipython3",
   "version": "3.5.2"
  }
 },
 "nbformat": 4,
 "nbformat_minor": 2
}
