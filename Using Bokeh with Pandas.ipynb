{
 "cells": [
  {
   "cell_type": "code",
   "execution_count": 3,
   "metadata": {
    "collapsed": true
   },
   "outputs": [],
   "source": [
    "#Plotting percentage of women who recieved an engineering degree over years\n",
    "\n",
    "#necessary packages\n",
    "from bokeh.plotting import figure\n",
    "from bokeh.io import output_file, show\n",
    "import pandas as pd"
   ]
  },
  {
   "cell_type": "code",
   "execution_count": 5,
   "metadata": {},
   "outputs": [],
   "source": [
    "#importing the data\n",
    "df = pd.read_csv(\"http://pythonhow.com/data/bachelors.csv\")\n",
    "x = df['Year']\n",
    "y=df['Engineering']\n",
    "\n",
    "#prepare the out file\n",
    "output_file(\"College Line Graph.html\")\n",
    "\n",
    "#create a figure object\n",
    "f = figure()\n",
    "\n",
    "#create line plot\n",
    "f.line(x,y)\n",
    "\n",
    "#write the plot in the figure object\n",
    "show(f)"
   ]
  },
  {
   "cell_type": "code",
   "execution_count": null,
   "metadata": {
    "collapsed": true
   },
   "outputs": [],
   "source": []
  },
  {
   "cell_type": "code",
   "execution_count": null,
   "metadata": {
    "collapsed": true
   },
   "outputs": [],
   "source": []
  }
 ],
 "metadata": {
  "kernelspec": {
   "display_name": "Python 2",
   "language": "python",
   "name": "python2"
  },
  "language_info": {
   "codemirror_mode": {
    "name": "ipython",
    "version": 2
   },
   "file_extension": ".py",
   "mimetype": "text/x-python",
   "name": "python",
   "nbconvert_exporter": "python",
   "pygments_lexer": "ipython2",
   "version": "2.7.14"
  }
 },
 "nbformat": 4,
 "nbformat_minor": 2
}
